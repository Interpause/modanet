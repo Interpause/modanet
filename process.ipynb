{
 "cells": [
  {
   "cell_type": "code",
   "execution_count": 1,
   "metadata": {},
   "outputs": [],
   "source": [
    "import lmdb\n",
    "import json"
   ]
  },
  {
   "cell_type": "code",
   "execution_count": 2,
   "metadata": {},
   "outputs": [],
   "source": [
    "class PhotoData(object):\n",
    "    def __init__(self, path):\n",
    "        self.env = lmdb.open(\n",
    "            path, map_size=2**36, readonly=True, lock=False\n",
    "        )\n",
    "        \n",
    "    def __iter__(self):\n",
    "        with self.env.begin() as t:\n",
    "            with t.cursor() as c:\n",
    "                for key, value in c:\n",
    "                    yield key, value\n",
    "        \n",
    "    def __getitem__(self, index):\n",
    "        key = str(index).encode('ascii')\n",
    "        with self.env.begin() as t:\n",
    "            data = t.get(key)\n",
    "        if not data:\n",
    "            return None\n",
    "        return data\n",
    "        \n",
    "    def __len__(self):\n",
    "        return self.env.stat()['entries']\n",
    "\n",
    "    def save_img(self, id, path):\n",
    "        data = self.__getitem__(id)\n",
    "        with open(path, 'wb') as f:\n",
    "            f.write(data)\n"
   ]
  },
  {
   "cell_type": "code",
   "execution_count": 3,
   "metadata": {},
   "outputs": [],
   "source": [
    "photos_db = PhotoData('./photos.lmdb')\n",
    "#val_annos = json.load(open('./val/modanet2018_instances_val.json')) #doesnt come annotated...\n",
    "train_annos = json.load(open('./train/modanet2018_instances_train.json'))"
   ]
  },
  {
   "cell_type": "markdown",
   "metadata": {},
   "source": [
    "```\n",
    "{\n",
    "'info' : info, 'images' : [image], 'annotations' : [annotation], 'licenses' : [license],'year': year, 'categories': [category], 'type': type\n",
    "}\n",
    "\n",
    "info{\n",
    "'version' : str, 'description' : str, 'contributor' : str, 'date_created' : datetime,\n",
    "}\n",
    "\n",
    "image{\n",
    "'id' : int, 'width' : int, 'height' : int, 'file_name' : str, 'license' : int\n",
    "}\n",
    "\n",
    "license{\n",
    "'id' : int, 'name' : str, 'url' : str,\n",
    "}\n",
    "\n",
    "annotation{\n",
    "  'area': int, \n",
    "  'bbox': [x,y,width,height],\n",
    "  'segmentation': [polygon],\n",
    "  'image_id': int,\n",
    "  'id': int,\n",
    "  'category_id': int,\n",
    "  'iscrowd': int\n",
    "}\n",
    "category{\n",
    "  'supercategory': str, 'id': int, 'name': str,\n",
    "}\n",
    "```"
   ]
  },
  {
   "cell_type": "code",
   "execution_count": 4,
   "metadata": {},
   "outputs": [],
   "source": [
    "# uncomment to dump images\n",
    "# for image in train_annos['images']:\n",
    "#     photos_db.save_img(image['id'], f'train/{image[\"file_name\"]}')"
   ]
  },
  {
   "cell_type": "code",
   "execution_count": 5,
   "metadata": {},
   "outputs": [],
   "source": [
    "# making the labels smaller\n",
    "train_annos.pop('info')\n",
    "train_annos.pop('licenses')\n",
    "train_annos.pop('type')\n",
    "train_annos.pop('year')\n",
    "for image in train_annos['images']:\n",
    "    image.pop('license')\n",
    "for cat in train_annos['categories']:\n",
    "    cat.pop('supercategory')\n",
    "with open('modanet_instances_all.json', 'w') as f:\n",
    "    json.dump(train_annos, f, separators=(',', ':'))"
   ]
  },
  {
   "cell_type": "code",
   "execution_count": null,
   "metadata": {},
   "outputs": [],
   "source": []
  }
 ],
 "metadata": {
  "kernelspec": {
   "display_name": "Python 3.10.7 64-bit",
   "language": "python",
   "name": "python3"
  },
  "language_info": {
   "codemirror_mode": {
    "name": "ipython",
    "version": 3
   },
   "file_extension": ".py",
   "mimetype": "text/x-python",
   "name": "python",
   "nbconvert_exporter": "python",
   "pygments_lexer": "ipython3",
   "version": "3.10.7"
  },
  "orig_nbformat": 4,
  "vscode": {
   "interpreter": {
    "hash": "7a00de2d03a2cdd800050a5fd9903e27ef0ab168083508fb826c5866b9462f56"
   }
  }
 },
 "nbformat": 4,
 "nbformat_minor": 2
}
