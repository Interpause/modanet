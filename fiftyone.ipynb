{
 "cells": [
  {
   "cell_type": "code",
   "execution_count": 1,
   "metadata": {},
   "outputs": [
    {
     "name": "stdout",
     "output_type": "stream",
     "text": [
      "Session launched. Run `session.show()` to open the App in a cell output.\n"
     ]
    },
    {
     "data": {
      "application/javascript": "window.open('http://localhost:5151/');",
      "text/plain": [
       "<IPython.core.display.Javascript object>"
      ]
     },
     "metadata": {},
     "output_type": "display_data"
    },
    {
     "data": {
      "text/html": [
       "\n",
       "        <iframe\n",
       "            width=\"100%\"\n",
       "            height=\"800\"\n",
       "            src=\"http://localhost:5151/?notebook=true&handleId=f9b13c5c-dbf3-4e22-a400-716f55bca091\"\n",
       "            frameborder=\"0\"\n",
       "            allowfullscreen\n",
       "            \n",
       "        ></iframe>\n",
       "        "
      ],
      "text/plain": [
       "<IPython.lib.display.IFrame at 0x24bed981af0>"
      ]
     },
     "metadata": {},
     "output_type": "display_data"
    }
   ],
   "source": [
    "import fiftyone as fo\n",
    "\n",
    "#auto disables auto-embedding of fiftyone whenever session is manipulated\n",
    "#nice if you want one fiftyone window at the top of the notebook, or use a browser tab instead\n",
    "session = fo.launch_app(auto=False)\n",
    "#prefer having 1 updated browser tab with fiftyone open instead of embedding into notebook\n",
    "session.open_tab()\n",
    "#above doesn't work for VSCode notebooks, session.summary reveals the url of fiftyone\n",
    "session.summary()\n",
    "session.show()\n",
    "#btw, didya know theres a desktop version? https://voxel51.com/docs/fiftyone/getting_started/install.html#installing-fiftyone-desktop\n"
   ]
  },
  {
   "cell_type": "code",
   "execution_count": 5,
   "metadata": {},
   "outputs": [
    {
     "name": "stdout",
     "output_type": "stream",
     "text": [
      " 100% |█████████████████| 100/100 [686.6ms elapsed, 0s remaining, 145.7 samples/s]      \n"
     ]
    }
   ],
   "source": [
    "# check dataset transformation went correctly\n",
    "dataset = fo.Dataset.from_dir(\n",
    "    dataset_type=fo.types.COCODetectionDataset,\n",
    "    labels_path=\"dataset/modanet_instances_val.json\",\n",
    "    data_path=\"dataset\",\n",
    "    label_types=\"segmentations\",\n",
    "    max_samples=100\n",
    ")\n",
    "\n",
    "session.dataset = dataset"
   ]
  },
  {
   "cell_type": "code",
   "execution_count": null,
   "metadata": {},
   "outputs": [],
   "source": []
  }
 ],
 "metadata": {
  "interpreter": {
   "hash": "460abb692596c9f15ecfffddaef2f71b8a43194282a5ef55242205a9de5f86eb"
  },
  "kernelspec": {
   "display_name": "Python 3.9.9 64-bit ('detectron2': conda)",
   "language": "python",
   "name": "python3"
  },
  "language_info": {
   "codemirror_mode": {
    "name": "ipython",
    "version": 3
   },
   "file_extension": ".py",
   "mimetype": "text/x-python",
   "name": "python",
   "nbconvert_exporter": "python",
   "pygments_lexer": "ipython3",
   "version": "3.9.9"
  },
  "orig_nbformat": 4
 },
 "nbformat": 4,
 "nbformat_minor": 2
}
